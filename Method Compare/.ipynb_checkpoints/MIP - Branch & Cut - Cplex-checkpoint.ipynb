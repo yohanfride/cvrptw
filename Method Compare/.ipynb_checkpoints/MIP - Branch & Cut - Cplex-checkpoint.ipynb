{
 "cells": [
  {
   "cell_type": "markdown",
   "id": "controversial-irrigation",
   "metadata": {},
   "source": [
    "Formula:\n",
    "\\begin{align}\n",
    "\\min \\quad & \\sum_{(i,j)\\in A}d_{i,j}x_{i,j} \\\\\n",
    "\\text{s.t.} \\quad & \\sum_{(i,j)\\in A : j=h} x_{i,j} = 1 && \\forall \\ h \\in C \\\\\n",
    "& \\sum_{(i,j)\\in A : i=h} x_{i,j} = 1 && \\forall \\ h \\in C \\\\\n",
    "& x_{i,j} = 1 \\Rightarrow u_i + v_j = u_j && \\forall \\ (i,j) \\in A : i\\neq 0 , \\ j\\neq 0 \\\\\n",
    "& x_{i,j} = 1 \\Rightarrow w_i + p_j = w_j && \\forall \\ (i,j) \\in A : i\\neq 0 , \\ j\\neq 0 \\\\\n",
    "& v_i \\leq u_i \\leq V && \\forall \\ i \\in C \\\\\n",
    "& p_i \\leq w_i \\leq P && \\forall \\ i \\in C \\\\\n",
    "& x_{i,j} \\in \\{0,1\\} && \\forall \\ (i,j) \\in A\n",
    "\\end{align}"
   ]
  },
  {
   "cell_type": "code",
   "execution_count": 1,
   "id": "unauthorized-surveillance",
   "metadata": {},
   "outputs": [
    {
     "name": "stdout",
     "output_type": "stream",
     "text": [
      "3.7.10\n"
     ]
    }
   ],
   "source": [
    "import os\n",
    "os.environ[\"SPARK_HOME\"] = \"D:\\RISET\\Spark\\spark-3.1.1-bin-hadoop2.7\"\n",
    "from platform import python_version\n",
    "print(python_version())"
   ]
  },
  {
   "cell_type": "code",
   "execution_count": 2,
   "id": "defensive-missile",
   "metadata": {},
   "outputs": [],
   "source": [
    "import numpy as np\n",
    "import pandas as pd\n",
    "import xlwings as xw\n",
    "import folium\n",
    "import docplex.mp.solution as mp_sol\n",
    "from docplex.mp.model import Model\n",
    "from geopy.distance import great_circle\n",
    "import json\n",
    "\n",
    "n = 15\n",
    "customer = [i for i in range(1, n + 1)]\n",
    "customer2 = [i for i in range(1, n + 1)]\n",
    "node = [0] + customer\n",
    "arcos = [(i,j) for i in node for j in node if i != j]\n",
    "f = open('pelanggan.json')\n",
    "data = json.load(f)\n",
    "# get customer demand and location data\n",
    "df = pd.DataFrame(data)\n",
    "# print(df)\n",
    "# get distance data\n",
    "distance = np.loadtxt('distance.txt')\n",
    "duration = np.loadtxt('duration.txt')\n",
    "vehicle_capacity = 250\n",
    "\n",
    "# Start time\n",
    "e = [df['ready_time'][i] for i in range(n + 1)]\n",
    "e.append(df['ready_time'][0])\n",
    "\n",
    "# Due time\n",
    "\n",
    "l = [df['due_time'][i] for i in range(n + 1)]\n",
    "l.append(df['due_time'][0])\n",
    "\n",
    "# Service time\n",
    "ser = [df['service_time'][i] for i in range(n + 1)]\n",
    "ser.append(df['service_time'][0])"
   ]
  },
  {
   "cell_type": "code",
   "execution_count": 3,
   "id": "automotive-integer",
   "metadata": {},
   "outputs": [],
   "source": [
    "mdl = Model('CVRPTW')"
   ]
  },
  {
   "cell_type": "code",
   "execution_count": 4,
   "id": "acoustic-chuck",
   "metadata": {},
   "outputs": [],
   "source": [
    "x = mdl.binary_var_dict(arcos, name='x')\n",
    "u = mdl.continuous_var_dict(customer, name='u')\n",
    "T = mdl.continuous_var_dict(customer2, name='T')"
   ]
  },
  {
   "cell_type": "markdown",
   "id": "crude-average",
   "metadata": {},
   "source": [
    "$$\\min \\sum_{(i,j)\\in A}d_{i,j}x_{i,j}$$"
   ]
  },
  {
   "cell_type": "code",
   "execution_count": 5,
   "id": "auburn-scanning",
   "metadata": {},
   "outputs": [],
   "source": [
    "mdl.minimize(mdl.sum(distance[(i, j)] * x[(i, j)] for i, j in arcos))"
   ]
  },
  {
   "cell_type": "markdown",
   "id": "changed-circuit",
   "metadata": {},
   "source": [
    "$$ \\sum_{(i,j)\\in A : j=h} x_{i,j} = 1 \\qquad \\forall \\ h \\in C $$"
   ]
  },
  {
   "cell_type": "code",
   "execution_count": 6,
   "id": "actual-vector",
   "metadata": {},
   "outputs": [],
   "source": [
    "for h in customer:\n",
    "    mdl.add_constraint(mdl.sum(x[(i,j)] for i,j in arcos if i==h)==1, ctname='out_%d'%h)"
   ]
  },
  {
   "cell_type": "markdown",
   "id": "hispanic-bandwidth",
   "metadata": {},
   "source": [
    "$$ \\sum_{(i,j)\\in A : i=h} x_{i,j} = 1 \\qquad \\forall \\ h \\in C $$"
   ]
  },
  {
   "cell_type": "code",
   "execution_count": 7,
   "id": "healthy-canberra",
   "metadata": {},
   "outputs": [],
   "source": [
    "for h in customer:\n",
    "    mdl.add_constraint(mdl.sum(x[(i,j)] for i,j in arcos if j==h)==1, ctname='in_%d'%h)"
   ]
  },
  {
   "cell_type": "markdown",
   "id": "cathedral-haven",
   "metadata": {},
   "source": [
    "$$ x_{i,j} = 1 \\Rightarrow u_i + v_j = u_j \\qquad \\forall \\ (i,j) \\in A : i\\neq 0 , \\ j\\neq 0 $$\n",
    "$$ x_{i,j} = 1 \\Rightarrow w_i + p_j = w_j \\qquad \\forall \\ (i,j) \\in A : i\\neq 0 , \\ j\\neq 0 $$"
   ]
  },
  {
   "cell_type": "code",
   "execution_count": 8,
   "id": "worse-peter",
   "metadata": {},
   "outputs": [],
   "source": [
    "for i, j in arcos:\n",
    "    if i!=0 and j!=0:\n",
    "        mdl.add_indicator(x[(i,j)], u[i] + df.demand[j] == u[j])"
   ]
  },
  {
   "cell_type": "markdown",
   "id": "beautiful-direction",
   "metadata": {},
   "source": [
    "$$ v_i \\leq u_i \\leq V \\qquad \\forall \\ i \\in C $$\n",
    "$$ p_i \\leq w_i \\leq P \\qquad \\forall \\ i \\in C $$"
   ]
  },
  {
   "cell_type": "code",
   "execution_count": 9,
   "id": "ordinary-pantyhose",
   "metadata": {},
   "outputs": [],
   "source": [
    "for i in customer:\n",
    "    mdl.add_constraint(df.demand[i] <= u[i])\n",
    "    mdl.add_constraint(u[i] <= vehicle_capacity)"
   ]
  },
  {
   "cell_type": "markdown",
   "id": "bibliographic-yukon",
   "metadata": {},
   "source": [
    "$$ x_{i,j}(T_i + s_i + t_{i,j} - T_j) \\leq 0 \\qquad \\forall \\ (i,j) \\in A : i\\neq 0 , \\ j\\neq 0 $$"
   ]
  },
  {
   "cell_type": "code",
   "execution_count": 10,
   "id": "minimal-linux",
   "metadata": {},
   "outputs": [],
   "source": [
    "# for i, j in arcos:\n",
    "#     if i!=0 and j!=0:\n",
    "#         mdl.add_indicator(x[(i,j)], T[i] + ser[i] + duration[i,j] - T[j] <= 0 )"
   ]
  },
  {
   "cell_type": "markdown",
   "id": "western-appearance",
   "metadata": {},
   "source": [
    "$$ e_i \\leq T_i \\leq l_i \\qquad \\forall \\ i \\in C $$"
   ]
  },
  {
   "cell_type": "code",
   "execution_count": 11,
   "id": "forward-retail",
   "metadata": {},
   "outputs": [],
   "source": [
    "# for i in customer:\n",
    "#     mdl.add_constraint(e[i] <= T[i])\n",
    "#     mdl.add_constraint(T[i] <= l[i])"
   ]
  },
  {
   "cell_type": "code",
   "execution_count": 12,
   "id": "quick-introduction",
   "metadata": {},
   "outputs": [
    {
     "name": "stdout",
     "output_type": "stream",
     "text": [
      "Version identifier: 12.10.0.0 | 2019-11-26 | 843d4de2ae\n",
      "CPXPARAM_Read_DataCheck                          1\n",
      "CPXPARAM_TimeLimit                               60\n",
      "Found incumbent of value 84444.000000 after 0.00 sec. (0.02 ticks)\n",
      "Tried aggregator 2 times.\n",
      "MIP Presolve eliminated 60 rows and 31 columns.\n",
      "MIP Presolve modified 148 coefficients.\n",
      "Aggregator did 148 substitutions.\n",
      "Reduced MIP has 419 rows, 449 columns, and 1376 nonzeros.\n",
      "Reduced MIP has 209 binaries, 0 generals, 0 SOSs, and 358 indicators.\n",
      "Presolve time = 0.00 sec. (1.23 ticks)\n",
      "Probing time = 0.00 sec. (1.74 ticks)\n",
      "Tried aggregator 1 time.\n",
      "Detecting symmetries...\n",
      "Reduced MIP has 419 rows, 449 columns, and 1376 nonzeros.\n",
      "Reduced MIP has 209 binaries, 0 generals, 0 SOSs, and 358 indicators.\n",
      "Presolve time = 0.00 sec. (0.97 ticks)\n",
      "Probing time = 0.00 sec. (1.70 ticks)\n",
      "Clique table members: 601.\n",
      "MIP emphasis: balance optimality and feasibility.\n",
      "MIP search method: dynamic search.\n",
      "Parallel mode: deterministic, using up to 8 threads.\n",
      "Root relaxation solution time = 0.00 sec. (1.09 ticks)\n",
      "\n",
      "        Nodes                                         Cuts/\n",
      "   Node  Left     Objective  IInf  Best Integer    Best Bound    ItCnt     Gap\n",
      "\n",
      "*     0+    0                        84444.0000        0.0000           100.00%\n",
      "*     0+    0                        80533.0000        0.0000           100.00%\n",
      "*     0+    0                        49283.0000        0.0000           100.00%\n",
      "      0     0    13503.6983    27    49283.0000    13503.6983       50   72.60%\n",
      "      0     0    14275.0000    27    49283.0000     Cuts: 177      120   71.03%\n",
      "*     0+    0                        34276.0000    14275.0000            58.35%\n",
      "      0     0    14784.6153    27    34276.0000     Cuts: 107      177   56.87%\n",
      "*     0+    0                        24095.0000    14784.6153            38.64%\n",
      "      0     0    14847.6859    27    24095.0000      Cuts: 48      202   38.38%\n",
      "      0     0    14909.2055    27    24095.0000      Cuts: 25      228   38.12%\n",
      "      0     0    14987.9162    27    24095.0000      Cuts: 55      252   37.80%\n",
      "Detecting symmetries...\n",
      "      0     0    15077.8745    27    24095.0000      Cuts: 51      290   37.42%\n",
      "      0     0    15153.6467    27    24095.0000     Cuts: 110      330   37.11%\n",
      "      0     0    15207.7480    27    24095.0000      Cuts: 75      353   36.88%\n",
      "      0     0    15208.8835    27    24095.0000      Cuts: 26      361   36.88%\n",
      "      0     0    15209.2081    27    24095.0000      Cuts: 36      370   36.88%\n",
      "*     0+    0                        22905.0000    15209.2081            33.60%\n",
      "Detecting symmetries...\n",
      "      0     2    15209.2081    26    22905.0000    15209.2081      370   33.60%\n",
      "Elapsed time = 0.36 sec. (67.92 ticks, tree = 0.02 MB, solutions = 6)\n",
      "*   679+  276                        21974.0000    16266.8744            25.97%\n",
      "   2659  1046    17602.1929    27    21974.0000    17202.0665    50386   21.72%\n",
      "   4046  1498    21288.3512    23    21974.0000    17669.2725    92177   19.59%\n",
      "\n",
      "Performing restart 1\n",
      "\n",
      "Repeating presolve.\n",
      "Tried aggregator 1 time.\n",
      "Reduced MIP has 419 rows, 449 columns, and 1376 nonzeros.\n",
      "Reduced MIP has 209 binaries, 0 generals, 0 SOSs, and 358 indicators.\n",
      "Presolve time = 0.02 sec. (0.72 ticks)\n",
      "Tried aggregator 1 time.\n",
      "Reduced MIP has 419 rows, 449 columns, and 1376 nonzeros.\n",
      "Reduced MIP has 209 binaries, 0 generals, 0 SOSs, and 358 indicators.\n",
      "Presolve time = 0.02 sec. (1.02 ticks)\n",
      "Represolve time = 0.05 sec. (7.14 ticks)\n",
      "   5019     0    15236.0136    31    21974.0000      Cuts: 29   123324   18.56%\n",
      "   5019     0    15299.6597    31    21974.0000      Cuts: 26   123352   18.56%\n",
      "   5019     0    15330.9359    31    21974.0000      Cuts: 57   123389   18.56%\n",
      "   5019     0    15351.7879    31    21974.0000      Cuts: 25   123410   18.56%\n",
      "   5019     2    15351.7879    48    21974.0000    17895.6669   123410   18.56%\n",
      "   7020  1171    20532.8389    19    21974.0000    17895.6669   149388   18.56%\n",
      "   8978  1999    20746.9841    29    21974.0000    17994.9984   183687   18.11%\n",
      "  10679  2669    20786.0378    27    21974.0000    18747.9156   222455   14.68%\n",
      "  12578  2936        cutoff          21974.0000    19268.4979   260732   12.31%\n",
      "  14011  2543    20874.9296    20    21974.0000    19773.4840   296322   10.01%\n",
      "  15739  1470        cutoff          21974.0000    20491.3426   334702    6.75%\n",
      "\n",
      "GUB cover cuts applied:  4\n",
      "Clique cuts applied:  26\n",
      "Cover cuts applied:  115\n",
      "Implied bound cuts applied:  116\n",
      "Flow cuts applied:  1\n",
      "Mixed integer rounding cuts applied:  18\n",
      "Zero-half cuts applied:  14\n",
      "Lift and project cuts applied:  16\n",
      "Gomory fractional cuts applied:  3\n",
      "\n",
      "Root node processing (before b&c):\n",
      "  Real time             =    0.36 sec. (67.68 ticks)\n",
      "Parallel b&c, 8 threads:\n",
      "  Real time             =    6.97 sec. (2341.44 ticks)\n",
      "  Sync time (average)   =    1.53 sec.\n",
      "  Wait time (average)   =    0.01 sec.\n",
      "                          ------------\n",
      "Total (root+branch&cut) =    7.33 sec. (2409.12 ticks)\n"
     ]
    }
   ],
   "source": [
    "mdl.parameters.timelimit = 60\n",
    "# mdl.parameters.parallel = 1\n",
    "# mdl.parameters.threads =  0\n",
    "# mdl.parameters.benders.strategy = -1\n",
    "# mdl.parameters.mip.limits.cutsfactor = 0\n",
    "# mdl.parameters.mip.tolerances.mipgap = 0.1\n",
    "# mdl.parameters.mip.strategy.branch = 0\n",
    "\n",
    "###Menghitung Waktu\n",
    "import time\n",
    "start_timer = time.time()\n",
    "\n",
    "solucion = mdl.solve(log_output=True)\n",
    "\n",
    "###Menghitung Waktu\n",
    "done_timer = time.time()\n",
    "elapsed = done_timer - start_timer"
   ]
  },
  {
   "cell_type": "code",
   "execution_count": 13,
   "id": "manufactured-china",
   "metadata": {},
   "outputs": [
    {
     "data": {
      "text/plain": [
       "<JobSolveStatus.OPTIMAL_SOLUTION: 2>"
      ]
     },
     "execution_count": 13,
     "metadata": {},
     "output_type": "execute_result"
    }
   ],
   "source": [
    "mdl.get_solve_status()"
   ]
  },
  {
   "cell_type": "code",
   "execution_count": 14,
   "id": "charged-anthony",
   "metadata": {},
   "outputs": [],
   "source": [
    "# Encontrar las rutas por separado\n",
    "route = []\n",
    "total_dis = []\n",
    "for h in customer:\n",
    "    if x[(0, h)].solution_value > 0.9:\n",
    "        arcos_route = [(0, h)]\n",
    "        item_dis = distance[0][h]\n",
    "        j = h\n",
    "        while j!=0:\n",
    "            i = j\n",
    "            for k in node:\n",
    "                if i!=k and x[(i, k)].solution_value > 0.9:\n",
    "                    j = k\n",
    "                    arcos_route.append((i, j))\n",
    "                    item_dis+= distance[i][j]\n",
    "                    break\n",
    "        route.append(arcos_route)\n",
    "        total_dis.append(item_dis)"
   ]
  },
  {
   "cell_type": "code",
   "execution_count": 15,
   "id": "detected-station",
   "metadata": {},
   "outputs": [
    {
     "name": "stdout",
     "output_type": "stream",
     "text": [
      "Rute 0\n",
      "[(0, 3), (3, 8), (8, 4), (4, 1), (1, 2), (2, 0)] -> 6898.0\n",
      "Rute 1\n",
      "[(0, 10), (10, 9), (9, 5), (5, 15), (15, 14), (14, 11), (11, 0)] -> 8676.0\n",
      "Rute 2\n",
      "[(0, 12), (12, 7), (7, 13), (13, 6), (6, 0)] -> 6400.0\n",
      "Total Distace : 21974.0\n",
      "7.3587586879730225\n"
     ]
    }
   ],
   "source": [
    "best_distance = 0\n",
    "for n in range(len(route)):\n",
    "    print(\"Rute \"+str(n))\n",
    "    print(str(route[n])+\" -> \"+str(total_dis[n]))\n",
    "    best_distance+=total_dis[n]\n",
    "print(\"Total Distace : \"+str(best_distance))\n",
    "print(elapsed)"
   ]
  },
  {
   "cell_type": "code",
   "execution_count": 16,
   "id": "arctic-moment",
   "metadata": {},
   "outputs": [
    {
     "name": "stdout",
     "output_type": "stream",
     "text": [
      "Rute 0\n",
      "[(0, 3), (3, 8), (8, 4), (4, 1), (1, 2), (2, 0)] -> 6898.0\n",
      "(0, 3) --> 45 - 1245 --> 506.0\n",
      "(3, 8) --> 732 - 1932 --> 791.0\n",
      "(8, 4) --> 318 - 1518 --> 1083.0\n",
      "(4, 1) --> 781 - 1981 --> 1419.0\n",
      "(1, 2) --> 1108 - 2308 --> 1694.0\n",
      "(2, 0) --> 0 - 5000 --> 2270.0\n",
      "----------\n",
      "Rute 1\n",
      "[(0, 10), (10, 9), (9, 5), (5, 15), (15, 14), (14, 11), (11, 0)] -> 8676.0\n",
      "(0, 10) --> 133 - 1233 --> 266.0\n",
      "(10, 9) --> 672 - 1872 --> 647.0\n",
      "(9, 5) --> 118 - 1318 --> 1142.0\n",
      "(5, 15) --> 374 - 1574 --> 1511.0\n",
      "(15, 14) --> 1051 - 2251 --> 1794.0\n",
      "(14, 11) --> 1173 - 2373 --> 2308.0\n",
      "(11, 0) --> 0 - 5000 --> 2715.0\n",
      "----------\n",
      "Rute 2\n",
      "[(0, 12), (12, 7), (7, 13), (13, 6), (6, 0)] -> 6400.0\n",
      "(0, 12) --> 185 - 1385 --> 377.0\n",
      "(12, 7) --> 1263 - 2463 --> 771.0\n",
      "(7, 13) --> 431 - 1631 --> 1013.0\n",
      "(13, 6) --> 914 - 2114 --> 1375.0\n",
      "(6, 0) --> 0 - 5000 --> 1990.0\n",
      "----------\n",
      "Total Distace : 21974.0\n",
      "7.3587586879730225\n"
     ]
    }
   ],
   "source": [
    "best_distance = 0\n",
    "for n in range(len(route)):\n",
    "    print(\"Rute \"+str(n))\n",
    "    print(str(route[n])+\" -> \"+str(total_dis[n]))\n",
    "    s_time = 0\n",
    "    for rt in route[n]:\n",
    "        (i,j) = rt\n",
    "        s_time += duration[i][j]\n",
    "        print(str(rt)+\" --> \"+str(e[j])+\" - \"+str(l[j])+\" --> \"+str(s_time))\n",
    "        s_time += ser[j]\n",
    "    print(\"----------\")\n",
    "    best_distance+=total_dis[n]\n",
    "print(\"Total Distace : \"+str(best_distance))\n",
    "print(elapsed)"
   ]
  },
  {
   "cell_type": "markdown",
   "id": "active-corrections",
   "metadata": {},
   "source": [
    "##### "
   ]
  }
 ],
 "metadata": {
  "kernelspec": {
   "display_name": "Python 3.7",
   "language": "python",
   "name": "py37"
  },
  "language_info": {
   "codemirror_mode": {
    "name": "ipython",
    "version": 3
   },
   "file_extension": ".py",
   "mimetype": "text/x-python",
   "name": "python",
   "nbconvert_exporter": "python",
   "pygments_lexer": "ipython3",
   "version": "3.7.10"
  }
 },
 "nbformat": 4,
 "nbformat_minor": 5
}
